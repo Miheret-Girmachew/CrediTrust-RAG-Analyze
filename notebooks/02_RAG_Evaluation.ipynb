{
 "cells": [
  {
   "cell_type": "code",
   "execution_count": 4,
   "id": "be6ede47",
   "metadata": {},
   "outputs": [],
   "source": [
    "import sys\n",
    "sys.path.append('../src') \n",
    "from rag_pipeline import RAGChatbot\n",
    "import pandas as pd\n"
   ]
  },
  {
   "cell_type": "code",
   "execution_count": 6,
   "id": "81513215",
   "metadata": {},
   "outputs": [
    {
     "name": "stdout",
     "output_type": "stream",
     "text": [
      "--- Initializing RAG Chatbot ---\n",
      "Loading vector store...\n",
      "Vector store loaded.\n",
      "Loading LLM for generation...\n"
     ]
    },
    {
     "name": "stderr",
     "output_type": "stream",
     "text": [
      "Device set to use cpu\n"
     ]
    },
    {
     "name": "stdout",
     "output_type": "stream",
     "text": [
      "LLM loaded.\n",
      "--- RAG Chatbot Initialized Successfully ---\n"
     ]
    }
   ],
   "source": [
    "chatbot = RAGChatbot()"
   ]
  },
  {
   "cell_type": "code",
   "execution_count": 8,
   "id": "382b4b40-09cd-4283-baac-0c881b0bb8cf",
   "metadata": {},
   "outputs": [],
   "source": [
    "evaluation_questions = [\n",
    "    \"Why are people unhappy with BNPL?\",\n",
    "    \"What are the most common complaints about money transfers?\",\n",
    "    \"Tell me about issues related to credit reporting on credit cards.\",\n",
    "    \"Are customers complaining about unexpected fees for their savings accounts?\",\n",
    "    \"What problems are users facing with personal loan applications?\",\n",
    "    \"Is there evidence of fraud in the complaints?\",\n",
    "    \"Summarize the issues related to payment processing.\",\n",
    "    \"Do customers have trouble closing their accounts?\"\n",
    "]"
   ]
  },
  {
   "cell_type": "code",
   "execution_count": 9,
   "id": "b7a799e2-fb6e-4d5c-89cb-1342b4211ef6",
   "metadata": {},
   "outputs": [
    {
     "name": "stdout",
     "output_type": "stream",
     "text": [
      "\n",
      "--- New Query --- \n",
      "Question: Why are people unhappy with BNPL?\n",
      "Retrieving relevant documents...\n",
      "Generating answer with LLM...\n"
     ]
    },
    {
     "name": "stderr",
     "output_type": "stream",
     "text": [
      "Both `max_new_tokens` (=256) and `max_length`(=512) seem to have been set. `max_new_tokens` will take precedence. Please refer to the documentation for more information. (https://huggingface.co/docs/transformers/main/en/main_classes/text_generation)\n"
     ]
    },
    {
     "name": "stdout",
     "output_type": "stream",
     "text": [
      "--------------------------------------------------\n",
      "\n",
      "--- New Query --- \n",
      "Question: What are the most common complaints about money transfers?\n",
      "Retrieving relevant documents...\n",
      "Generating answer with LLM...\n"
     ]
    },
    {
     "name": "stderr",
     "output_type": "stream",
     "text": [
      "Both `max_new_tokens` (=256) and `max_length`(=512) seem to have been set. `max_new_tokens` will take precedence. Please refer to the documentation for more information. (https://huggingface.co/docs/transformers/main/en/main_classes/text_generation)\n"
     ]
    },
    {
     "name": "stdout",
     "output_type": "stream",
     "text": [
      "--------------------------------------------------\n",
      "\n",
      "--- New Query --- \n",
      "Question: Tell me about issues related to credit reporting on credit cards.\n",
      "Retrieving relevant documents...\n",
      "Generating answer with LLM...\n"
     ]
    },
    {
     "name": "stderr",
     "output_type": "stream",
     "text": [
      "Both `max_new_tokens` (=256) and `max_length`(=512) seem to have been set. `max_new_tokens` will take precedence. Please refer to the documentation for more information. (https://huggingface.co/docs/transformers/main/en/main_classes/text_generation)\n"
     ]
    },
    {
     "name": "stdout",
     "output_type": "stream",
     "text": [
      "--------------------------------------------------\n",
      "\n",
      "--- New Query --- \n",
      "Question: Are customers complaining about unexpected fees for their savings accounts?\n",
      "Retrieving relevant documents...\n",
      "Generating answer with LLM...\n"
     ]
    },
    {
     "name": "stderr",
     "output_type": "stream",
     "text": [
      "Both `max_new_tokens` (=256) and `max_length`(=512) seem to have been set. `max_new_tokens` will take precedence. Please refer to the documentation for more information. (https://huggingface.co/docs/transformers/main/en/main_classes/text_generation)\n"
     ]
    },
    {
     "name": "stdout",
     "output_type": "stream",
     "text": [
      "--------------------------------------------------\n",
      "\n",
      "--- New Query --- \n",
      "Question: What problems are users facing with personal loan applications?\n",
      "Retrieving relevant documents...\n",
      "Generating answer with LLM...\n"
     ]
    },
    {
     "name": "stderr",
     "output_type": "stream",
     "text": [
      "Both `max_new_tokens` (=256) and `max_length`(=512) seem to have been set. `max_new_tokens` will take precedence. Please refer to the documentation for more information. (https://huggingface.co/docs/transformers/main/en/main_classes/text_generation)\n"
     ]
    },
    {
     "name": "stdout",
     "output_type": "stream",
     "text": [
      "--------------------------------------------------\n",
      "\n",
      "--- New Query --- \n",
      "Question: Is there evidence of fraud in the complaints?\n",
      "Retrieving relevant documents...\n",
      "Generating answer with LLM...\n"
     ]
    },
    {
     "name": "stderr",
     "output_type": "stream",
     "text": [
      "Both `max_new_tokens` (=256) and `max_length`(=512) seem to have been set. `max_new_tokens` will take precedence. Please refer to the documentation for more information. (https://huggingface.co/docs/transformers/main/en/main_classes/text_generation)\n"
     ]
    },
    {
     "name": "stdout",
     "output_type": "stream",
     "text": [
      "--------------------------------------------------\n",
      "\n",
      "--- New Query --- \n",
      "Question: Summarize the issues related to payment processing.\n",
      "Retrieving relevant documents...\n",
      "Generating answer with LLM...\n"
     ]
    },
    {
     "name": "stderr",
     "output_type": "stream",
     "text": [
      "Both `max_new_tokens` (=256) and `max_length`(=512) seem to have been set. `max_new_tokens` will take precedence. Please refer to the documentation for more information. (https://huggingface.co/docs/transformers/main/en/main_classes/text_generation)\n"
     ]
    },
    {
     "name": "stdout",
     "output_type": "stream",
     "text": [
      "--------------------------------------------------\n",
      "\n",
      "--- New Query --- \n",
      "Question: Do customers have trouble closing their accounts?\n",
      "Retrieving relevant documents...\n",
      "Generating answer with LLM...\n"
     ]
    },
    {
     "name": "stderr",
     "output_type": "stream",
     "text": [
      "Both `max_new_tokens` (=256) and `max_length`(=512) seem to have been set. `max_new_tokens` will take precedence. Please refer to the documentation for more information. (https://huggingface.co/docs/transformers/main/en/main_classes/text_generation)\n"
     ]
    },
    {
     "name": "stdout",
     "output_type": "stream",
     "text": [
      "--------------------------------------------------\n"
     ]
    }
   ],
   "source": [
    "results = []\n",
    "for question in evaluation_questions:\n",
    "    response = chatbot.ask(question)\n",
    "    results.append({\n",
    "        \"Question\": question,\n",
    "        \"Generated Answer\": response['answer'],\n",
    "        \"Retrieved Sources\": \"\\n\\n\".join([f\"ID: {doc.metadata.get('complaint_id', 'N/A')}\\n{doc.page_content}\" for doc in response['sources']])\n",
    "    })\n",
    "    print(\"-\" * 50)"
   ]
  },
  {
   "cell_type": "code",
   "execution_count": 10,
   "id": "2a385d31-3955-4ca9-8aaa-d90d9cc40e8f",
   "metadata": {},
   "outputs": [
    {
     "data": {
      "text/html": [
       "<div>\n",
       "<style scoped>\n",
       "    .dataframe tbody tr th:only-of-type {\n",
       "        vertical-align: middle;\n",
       "    }\n",
       "\n",
       "    .dataframe tbody tr th {\n",
       "        vertical-align: top;\n",
       "    }\n",
       "\n",
       "    .dataframe thead th {\n",
       "        text-align: right;\n",
       "    }\n",
       "</style>\n",
       "<table border=\"1\" class=\"dataframe\">\n",
       "  <thead>\n",
       "    <tr style=\"text-align: right;\">\n",
       "      <th></th>\n",
       "      <th>Question</th>\n",
       "      <th>Generated Answer</th>\n",
       "      <th>Retrieved Sources</th>\n",
       "    </tr>\n",
       "  </thead>\n",
       "  <tbody>\n",
       "    <tr>\n",
       "      <th>0</th>\n",
       "      <td>Why are people unhappy with BNPL?</td>\n",
       "      <td>Answer: Why are people unhappy with BNPL? Answer: Why are people unhappy with BNPL? Answer: Why are people unhappy with BNPL? Answer: Why are people unhappy with BNPL? Answer: Why are people unhappy with BNPL? Answer: Why are people unhappy with BNPL? Answer: Why are people unhappy with BNPL?</td>\n",
       "      <td></td>\n",
       "    </tr>\n",
       "    <tr>\n",
       "      <th>1</th>\n",
       "      <td>What are the most common complaints about money transfers?</td>\n",
       "      <td>Answer: What are the most common complaints about money transfers? Answer: What are the most common complaints about money transfers? Answer: What are the most common complaints about money transfers? Answer: What are the most common complaints about money transfers? Answer: What are the most common complaints about money transfers? Answer: What are the most common complaints about money transfers? Answer: What are the most common complaints about money transfers? Answer: What are the most common complaints about money transfers? Answer: What are the most common complaints about money transfers? Answer: What are the</td>\n",
       "      <td></td>\n",
       "    </tr>\n",
       "    <tr>\n",
       "      <th>2</th>\n",
       "      <td>Tell me about issues related to credit reporting on credit cards.</td>\n",
       "      <td>Your task is to answer questions about customer complaints. Use ONLY the following retrieved complaint excerpts to formulate your answer. Provide a concise, synthesized summary based on the evidence. If the context doesn't contain the answer, state that you don't have enough information.</td>\n",
       "      <td></td>\n",
       "    </tr>\n",
       "    <tr>\n",
       "      <th>3</th>\n",
       "      <td>Are customers complaining about unexpected fees for their savings accounts?</td>\n",
       "      <td>You are a financial analyst assistant for CrediTrust. Your task is to answer questions about customer complaints. Use ONLY the following retrieved complaint excerpts to formulate your answer. Provide a concise, synthesized summary based on the evidence. If the context doesn't contain the answer, state that you don't have enough information.</td>\n",
       "      <td></td>\n",
       "    </tr>\n",
       "    <tr>\n",
       "      <th>4</th>\n",
       "      <td>What problems are users facing with personal loan applications?</td>\n",
       "      <td>Answer: What problems are users facing with personal loan applications? Answer: What problems are users facing with personal loan applications? Answer: What problems are users facing with personal loan applications? Answer: What problems are users facing with personal loan applications? Answer: What problems are users facing with personal loan applications? Answer: What problems are users facing with personal loan applications? Answer: What problems are users facing with personal loan applications? Answer: What problems are users facing with personal loan applications?</td>\n",
       "      <td></td>\n",
       "    </tr>\n",
       "    <tr>\n",
       "      <th>5</th>\n",
       "      <td>Is there evidence of fraud in the complaints?</td>\n",
       "      <td>Question: Is there evidence of fraud in the complaints? Answer: Is there evidence of fraud in the complaints? Answer: Is there evidence of fraud in the complaints? Answer: Is there evidence of fraud in the complaints? Answer: Is there evidence of fraud in the complaints? Answer: Is there evidence of fraud in the complaints? Answer: Is there evidence of fraud in the complaints? Answer: Is there evidence of fraud in the complaints? Answer: Is there evidence of fraud in the complaints? Answer: Is there</td>\n",
       "      <td></td>\n",
       "    </tr>\n",
       "    <tr>\n",
       "      <th>6</th>\n",
       "      <td>Summarize the issues related to payment processing.</td>\n",
       "      <td>Question: Summarize the issues related to payment processing. Answer:</td>\n",
       "      <td></td>\n",
       "    </tr>\n",
       "    <tr>\n",
       "      <th>7</th>\n",
       "      <td>Do customers have trouble closing their accounts?</td>\n",
       "      <td>Answer: Do customers have trouble closing their accounts? Answer: Do customers have trouble closing their accounts? Answer: Do customers have trouble closing their accounts? Answer: Do customers have trouble closing their accounts? Answer: Do customers have trouble closing their accounts? Answer: Do customers have trouble closing their accounts? Answer: Do customers have trouble closing their accounts? Answer: Do customers have trouble closing their accounts? Answer: Do customers have trouble closing their accounts?</td>\n",
       "      <td></td>\n",
       "    </tr>\n",
       "  </tbody>\n",
       "</table>\n",
       "</div>"
      ],
      "text/plain": [
       "                                                                      Question  \\\n",
       "0                                            Why are people unhappy with BNPL?   \n",
       "1                   What are the most common complaints about money transfers?   \n",
       "2            Tell me about issues related to credit reporting on credit cards.   \n",
       "3  Are customers complaining about unexpected fees for their savings accounts?   \n",
       "4              What problems are users facing with personal loan applications?   \n",
       "5                                Is there evidence of fraud in the complaints?   \n",
       "6                          Summarize the issues related to payment processing.   \n",
       "7                            Do customers have trouble closing their accounts?   \n",
       "\n",
       "                                                                                                                                                                                                                                                                                                                                                                                                                                                                                                                                                                                                                                  Generated Answer  \\\n",
       "0                                                                                                                                                                                                                                                                                                                                            Answer: Why are people unhappy with BNPL? Answer: Why are people unhappy with BNPL? Answer: Why are people unhappy with BNPL? Answer: Why are people unhappy with BNPL? Answer: Why are people unhappy with BNPL? Answer: Why are people unhappy with BNPL? Answer: Why are people unhappy with BNPL?   \n",
       "1  Answer: What are the most common complaints about money transfers? Answer: What are the most common complaints about money transfers? Answer: What are the most common complaints about money transfers? Answer: What are the most common complaints about money transfers? Answer: What are the most common complaints about money transfers? Answer: What are the most common complaints about money transfers? Answer: What are the most common complaints about money transfers? Answer: What are the most common complaints about money transfers? Answer: What are the most common complaints about money transfers? Answer: What are the   \n",
       "2                                                                                                                                                                                                                                                                                                                                                 Your task is to answer questions about customer complaints. Use ONLY the following retrieved complaint excerpts to formulate your answer. Provide a concise, synthesized summary based on the evidence. If the context doesn't contain the answer, state that you don't have enough information.   \n",
       "3                                                                                                                                                                                                                                                                                           You are a financial analyst assistant for CrediTrust. Your task is to answer questions about customer complaints. Use ONLY the following retrieved complaint excerpts to formulate your answer. Provide a concise, synthesized summary based on the evidence. If the context doesn't contain the answer, state that you don't have enough information.   \n",
       "4                                                  Answer: What problems are users facing with personal loan applications? Answer: What problems are users facing with personal loan applications? Answer: What problems are users facing with personal loan applications? Answer: What problems are users facing with personal loan applications? Answer: What problems are users facing with personal loan applications? Answer: What problems are users facing with personal loan applications? Answer: What problems are users facing with personal loan applications? Answer: What problems are users facing with personal loan applications?   \n",
       "5                                                                                                                         Question: Is there evidence of fraud in the complaints? Answer: Is there evidence of fraud in the complaints? Answer: Is there evidence of fraud in the complaints? Answer: Is there evidence of fraud in the complaints? Answer: Is there evidence of fraud in the complaints? Answer: Is there evidence of fraud in the complaints? Answer: Is there evidence of fraud in the complaints? Answer: Is there evidence of fraud in the complaints? Answer: Is there evidence of fraud in the complaints? Answer: Is there   \n",
       "6                                                                                                                                                                                                                                                                                                                                                                                                                                                                                                                                                                            Question: Summarize the issues related to payment processing. Answer:   \n",
       "7                                                                                                        Answer: Do customers have trouble closing their accounts? Answer: Do customers have trouble closing their accounts? Answer: Do customers have trouble closing their accounts? Answer: Do customers have trouble closing their accounts? Answer: Do customers have trouble closing their accounts? Answer: Do customers have trouble closing their accounts? Answer: Do customers have trouble closing their accounts? Answer: Do customers have trouble closing their accounts? Answer: Do customers have trouble closing their accounts?   \n",
       "\n",
       "  Retrieved Sources  \n",
       "0                    \n",
       "1                    \n",
       "2                    \n",
       "3                    \n",
       "4                    \n",
       "5                    \n",
       "6                    \n",
       "7                    "
      ]
     },
     "metadata": {},
     "output_type": "display_data"
    }
   ],
   "source": [
    "df_results = pd.DataFrame(results)\n",
    "\n",
    "# To display full text in notebook\n",
    "pd.set_option('display.max_colwidth', None)\n",
    "display(df_results)"
   ]
  },
  {
   "cell_type": "code",
   "execution_count": null,
   "id": "8661a431-8236-400d-bc32-ee4f0c3ea544",
   "metadata": {},
   "outputs": [],
   "source": []
  }
 ],
 "metadata": {
  "kernelspec": {
   "display_name": "Python (CrediTrust Env)",
   "language": "python",
   "name": "credittrust-env"
  },
  "language_info": {
   "codemirror_mode": {
    "name": "ipython",
    "version": 3
   },
   "file_extension": ".py",
   "mimetype": "text/x-python",
   "name": "python",
   "nbconvert_exporter": "python",
   "pygments_lexer": "ipython3",
   "version": "3.10.9"
  }
 },
 "nbformat": 4,
 "nbformat_minor": 5
}
